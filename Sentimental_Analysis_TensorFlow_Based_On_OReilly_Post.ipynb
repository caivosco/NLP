{
 "cells": [
  {
   "cell_type": "code",
   "execution_count": 1,
   "metadata": {},
   "outputs": [
    {
     "data": {
      "text/plain": [
       "'\\nRef. https://github.com/adeshpande3/LSTM-Sentiment-Analysis/blob/master/Oriole%20LSTM.ipynb\\n\\nFirst downloading data and uncompress\\nBe sure all dependecies are for python (libraries)\\n'"
      ]
     },
     "execution_count": 1,
     "metadata": {},
     "output_type": "execute_result"
    }
   ],
   "source": [
    "'''\n",
    "Ref. https://github.com/adeshpande3/LSTM-Sentiment-Analysis/blob/master/Oriole%20LSTM.ipynb\n",
    "\n",
    "First downloading data and uncompress\n",
    "Be sure all dependecies are for python (libraries)\n",
    "'''"
   ]
  },
  {
   "cell_type": "code",
   "execution_count": 2,
   "metadata": {},
   "outputs": [
    {
     "data": {
      "text/plain": [
       "' Workflow\\n1 training a word vector generation model like Word2Vec. (or loading\\n                                                 pretrained vectors)\\n2 Creatins and ID matrix for our training set\\n3 RNN with LSTM units and creating and graph for computation\\n4 Training\\n5 Testing\\n'"
      ]
     },
     "execution_count": 2,
     "metadata": {},
     "output_type": "execute_result"
    }
   ],
   "source": [
    "''' Workflow\n",
    "1 training a word vector generation model like Word2Vec. (or loading\n",
    "                                                 pretrained vectors)\n",
    "2 Creatins and ID matrix for our training set\n",
    "3 RNN with LSTM units and creating and graph for computation\n",
    "4 Training\n",
    "5 Testing\n",
    "'''"
   ]
  },
  {
   "cell_type": "code",
   "execution_count": 3,
   "metadata": {},
   "outputs": [],
   "source": [
    "# we will use a word2vec trained which will be Glove \n",
    "# it contains 400000 words with 300 features"
   ]
  },
  {
   "cell_type": "code",
   "execution_count": 4,
   "metadata": {},
   "outputs": [
    {
     "name": "stdout",
     "output_type": "stream",
     "text": [
      "bin\r\n",
      "etc\r\n",
      "include\r\n",
      "lib\r\n",
      "lib64\r\n",
      "LSTM-Sentiment-Analysis\r\n",
      "NLP_Exploring.ipynb\r\n",
      "pip-selfcheck.json\r\n",
      "pyvenv.cfg\r\n",
      "Sentimental_Analysis_TensorFlow_Based_On_OReilly_Post.ipynb\r\n",
      "share\r\n"
     ]
    }
   ],
   "source": [
    "# defining/ checking the right directory\n",
    "!ls"
   ]
  },
  {
   "cell_type": "code",
   "execution_count": 5,
   "metadata": {},
   "outputs": [],
   "source": [
    "import os"
   ]
  },
  {
   "cell_type": "code",
   "execution_count": 6,
   "metadata": {},
   "outputs": [],
   "source": [
    "os.chdir('LSTM-Sentiment-Analysis/')"
   ]
  },
  {
   "cell_type": "markdown",
   "metadata": {},
   "source": [
    "### Loading data"
   ]
  },
  {
   "cell_type": "code",
   "execution_count": 7,
   "metadata": {},
   "outputs": [],
   "source": [
    "import numpy as np"
   ]
  },
  {
   "cell_type": "code",
   "execution_count": 8,
   "metadata": {},
   "outputs": [
    {
     "name": "stdout",
     "output_type": "stream",
     "text": [
      "Dockerfile     models\t\t  positiveReviews\t  wordsList.npy\r\n",
      "idsMatrix.npy  models.tar.gz\t  Pre-Trained LSTM.ipynb  wordVectors.npy\r\n",
      "Images\t       negativeReviews\t  README.md\r\n",
      "LICENSE        Oriole LSTM.ipynb  training_data.tar.gz\r\n"
     ]
    }
   ],
   "source": [
    "!ls"
   ]
  },
  {
   "cell_type": "code",
   "execution_count": 9,
   "metadata": {},
   "outputs": [],
   "source": [
    "wordsList = np.load('wordsList.npy')"
   ]
  },
  {
   "cell_type": "code",
   "execution_count": 10,
   "metadata": {},
   "outputs": [
    {
     "data": {
      "text/plain": [
       "numpy.ndarray"
      ]
     },
     "execution_count": 10,
     "metadata": {},
     "output_type": "execute_result"
    }
   ],
   "source": [
    "type(wordsList)"
   ]
  },
  {
   "cell_type": "code",
   "execution_count": 11,
   "metadata": {},
   "outputs": [],
   "source": [
    "wordsList = wordsList.tolist()"
   ]
  },
  {
   "cell_type": "code",
   "execution_count": 12,
   "metadata": {},
   "outputs": [
    {
     "data": {
      "text/plain": [
       "list"
      ]
     },
     "execution_count": 12,
     "metadata": {},
     "output_type": "execute_result"
    }
   ],
   "source": [
    "type(wordsList)"
   ]
  },
  {
   "cell_type": "code",
   "execution_count": 13,
   "metadata": {},
   "outputs": [],
   "source": [
    "wordsList = [word.decode('UTF-8') for word in wordsList]"
   ]
  },
  {
   "cell_type": "code",
   "execution_count": 14,
   "metadata": {},
   "outputs": [],
   "source": [
    "wordVectors = np.load('wordVectors.npy')"
   ]
  },
  {
   "cell_type": "code",
   "execution_count": 15,
   "metadata": {},
   "outputs": [
    {
     "data": {
      "text/plain": [
       "numpy.ndarray"
      ]
     },
     "execution_count": 15,
     "metadata": {},
     "output_type": "execute_result"
    }
   ],
   "source": [
    "type(wordVectors)"
   ]
  },
  {
   "cell_type": "code",
   "execution_count": 16,
   "metadata": {},
   "outputs": [
    {
     "data": {
      "text/plain": [
       "list"
      ]
     },
     "execution_count": 16,
     "metadata": {},
     "output_type": "execute_result"
    }
   ],
   "source": [
    "type(wordsList)"
   ]
  },
  {
   "cell_type": "code",
   "execution_count": 17,
   "metadata": {},
   "outputs": [
    {
     "data": {
      "text/plain": [
       "array([0., 0., 0., 0., 0., 0., 0., 0., 0., 0., 0., 0., 0., 0., 0., 0., 0.,\n",
       "       0., 0., 0., 0., 0., 0., 0., 0., 0., 0., 0., 0., 0., 0., 0., 0., 0.,\n",
       "       0., 0., 0., 0., 0., 0., 0., 0., 0., 0., 0., 0., 0., 0., 0., 0.],\n",
       "      dtype=float32)"
      ]
     },
     "execution_count": 17,
     "metadata": {},
     "output_type": "execute_result"
    }
   ],
   "source": [
    "wordVectors[0]"
   ]
  },
  {
   "cell_type": "code",
   "execution_count": 18,
   "metadata": {},
   "outputs": [
    {
     "data": {
      "text/plain": [
       "'0'"
      ]
     },
     "execution_count": 18,
     "metadata": {},
     "output_type": "execute_result"
    }
   ],
   "source": [
    "wordsList[0]"
   ]
  },
  {
   "cell_type": "code",
   "execution_count": 19,
   "metadata": {},
   "outputs": [
    {
     "data": {
      "text/plain": [
       "array([ 0.15272 ,  0.36181 , -0.22168 ,  0.066051,  0.13029 ,  0.37075 ,\n",
       "       -0.75874 , -0.44722 ,  0.22563 ,  0.10208 ,  0.054225,  0.13494 ,\n",
       "       -0.43052 , -0.2134  ,  0.56139 , -0.21445 ,  0.077974,  0.10137 ,\n",
       "       -0.51306 , -0.40295 ,  0.40639 ,  0.23309 ,  0.20696 , -0.12668 ,\n",
       "       -0.50634 , -1.7131  ,  0.077183, -0.39138 , -0.10594 , -0.23743 ,\n",
       "        3.9552  ,  0.66596 , -0.61841 , -0.3268  ,  0.37021 ,  0.25764 ,\n",
       "        0.38977 ,  0.27121 ,  0.043024, -0.34322 ,  0.020339,  0.2142  ,\n",
       "        0.044097,  0.14003 , -0.20079 ,  0.074794, -0.36076 ,  0.43382 ,\n",
       "       -0.084617,  0.1214  ], dtype=float32)"
      ]
     },
     "execution_count": 19,
     "metadata": {},
     "output_type": "execute_result"
    }
   ],
   "source": [
    "wordVectors[10]"
   ]
  },
  {
   "cell_type": "code",
   "execution_count": 20,
   "metadata": {},
   "outputs": [
    {
     "data": {
      "text/plain": [
       "'for'"
      ]
     },
     "execution_count": 20,
     "metadata": {},
     "output_type": "execute_result"
    }
   ],
   "source": [
    "wordsList[10]"
   ]
  },
  {
   "cell_type": "code",
   "execution_count": 21,
   "metadata": {},
   "outputs": [
    {
     "data": {
      "text/plain": [
       "400000"
      ]
     },
     "execution_count": 21,
     "metadata": {},
     "output_type": "execute_result"
    }
   ],
   "source": [
    "len(wordsList)"
   ]
  },
  {
   "cell_type": "code",
   "execution_count": 22,
   "metadata": {},
   "outputs": [
    {
     "data": {
      "text/plain": [
       "(400000, 50)"
      ]
     },
     "execution_count": 22,
     "metadata": {},
     "output_type": "execute_result"
    }
   ],
   "source": [
    "wordVectors.shape"
   ]
  },
  {
   "cell_type": "code",
   "execution_count": 23,
   "metadata": {},
   "outputs": [
    {
     "data": {
      "text/plain": [
       "array([-1.9327  ,  1.0421  , -0.78515 ,  0.91033 ,  0.22711 , -0.62158 ,\n",
       "       -1.6493  ,  0.07686 , -0.5868  ,  0.058831,  0.35628 ,  0.68916 ,\n",
       "       -0.50598 ,  0.70473 ,  1.2664  , -0.40031 , -0.020687,  0.80863 ,\n",
       "       -0.90566 , -0.074054, -0.87675 , -0.6291  , -0.12685 ,  0.11524 ,\n",
       "       -0.55685 , -1.6826  , -0.26291 ,  0.22632 ,  0.713   , -1.0828  ,\n",
       "        2.1231  ,  0.49869 ,  0.066711, -0.48226 , -0.17897 ,  0.47699 ,\n",
       "        0.16384 ,  0.16537 , -0.11506 , -0.15962 , -0.94926 , -0.42833 ,\n",
       "       -0.59457 ,  1.3566  , -0.27506 ,  0.19918 , -0.36008 ,  0.55667 ,\n",
       "       -0.70315 ,  0.17157 ], dtype=float32)"
      ]
     },
     "execution_count": 23,
     "metadata": {},
     "output_type": "execute_result"
    }
   ],
   "source": [
    "# We can also search our word list for a word like \"baseball\", \n",
    "# and then access its corresponding vector through \n",
    "# the embedding matrix.\n",
    "baseballIndex = wordsList.index('baseball')\n",
    "wordVectors[baseballIndex]"
   ]
  },
  {
   "cell_type": "markdown",
   "metadata": {},
   "source": [
    "### Vector representation of a sentence"
   ]
  },
  {
   "cell_type": "code",
   "execution_count": 24,
   "metadata": {},
   "outputs": [],
   "source": [
    "import tensorflow as tf"
   ]
  },
  {
   "cell_type": "code",
   "execution_count": 25,
   "metadata": {},
   "outputs": [],
   "source": [
    "maxSeqLength = 10 # maximum length of sentence\n",
    "numDimensions = 300 # dimensions for each word vector"
   ]
  },
  {
   "cell_type": "code",
   "execution_count": 26,
   "metadata": {},
   "outputs": [],
   "source": [
    "firstSentence = np.zeros((maxSeqLength), dtype='int32')"
   ]
  },
  {
   "cell_type": "code",
   "execution_count": 27,
   "metadata": {},
   "outputs": [
    {
     "data": {
      "text/plain": [
       "array([0, 0, 0, 0, 0, 0, 0, 0, 0, 0], dtype=int32)"
      ]
     },
     "execution_count": 27,
     "metadata": {},
     "output_type": "execute_result"
    }
   ],
   "source": [
    "firstSentence"
   ]
  },
  {
   "cell_type": "code",
   "execution_count": 28,
   "metadata": {},
   "outputs": [],
   "source": [
    "firstSentence[0] = wordsList.index('i')"
   ]
  },
  {
   "cell_type": "code",
   "execution_count": 29,
   "metadata": {},
   "outputs": [],
   "source": [
    "firstSentence[1] = wordsList.index('thought')\n",
    "firstSentence[2] = wordsList.index('the')\n",
    "firstSentence[3] = wordsList.index('movie')\n",
    "firstSentence[4] = wordsList.index('was')\n",
    "firstSentence[5] = wordsList.index('incredible')\n",
    "firstSentence[6] = wordsList.index('and')\n",
    "firstSentence[7] = wordsList.index('inspiring')"
   ]
  },
  {
   "cell_type": "code",
   "execution_count": 30,
   "metadata": {},
   "outputs": [
    {
     "data": {
      "text/plain": [
       "array([    41,    804, 201534,   1005,     15,   7446,      5,  13767,\n",
       "            0,      0], dtype=int32)"
      ]
     },
     "execution_count": 30,
     "metadata": {},
     "output_type": "execute_result"
    }
   ],
   "source": [
    "firstSentence"
   ]
  },
  {
   "cell_type": "code",
   "execution_count": 31,
   "metadata": {},
   "outputs": [
    {
     "name": "stdout",
     "output_type": "stream",
     "text": [
      "(10, 50)\n"
     ]
    }
   ],
   "source": [
    "with tf.Session() as sess:\n",
    "    print(tf.nn.embedding_lookup(wordVectors, firstSentence).eval().shape)"
   ]
  },
  {
   "cell_type": "code",
   "execution_count": 32,
   "metadata": {},
   "outputs": [
    {
     "data": {
      "text/plain": [
       "True"
      ]
     },
     "execution_count": 32,
     "metadata": {},
     "output_type": "execute_result"
    }
   ],
   "source": [
    "sess._closed"
   ]
  },
  {
   "cell_type": "code",
   "execution_count": 33,
   "metadata": {},
   "outputs": [
    {
     "data": {
      "text/plain": [
       "array([ 0.15272 ,  0.36181 , -0.22168 ,  0.066051,  0.13029 ,  0.37075 ,\n",
       "       -0.75874 , -0.44722 ,  0.22563 ,  0.10208 ,  0.054225,  0.13494 ,\n",
       "       -0.43052 , -0.2134  ,  0.56139 , -0.21445 ,  0.077974,  0.10137 ,\n",
       "       -0.51306 , -0.40295 ,  0.40639 ,  0.23309 ,  0.20696 , -0.12668 ,\n",
       "       -0.50634 , -1.7131  ,  0.077183, -0.39138 , -0.10594 , -0.23743 ,\n",
       "        3.9552  ,  0.66596 , -0.61841 , -0.3268  ,  0.37021 ,  0.25764 ,\n",
       "        0.38977 ,  0.27121 ,  0.043024, -0.34322 ,  0.020339,  0.2142  ,\n",
       "        0.044097,  0.14003 , -0.20079 ,  0.074794, -0.36076 ,  0.43382 ,\n",
       "       -0.084617,  0.1214  ], dtype=float32)"
      ]
     },
     "execution_count": 33,
     "metadata": {},
     "output_type": "execute_result"
    }
   ],
   "source": [
    "wordVectors[10]"
   ]
  },
  {
   "cell_type": "code",
   "execution_count": 34,
   "metadata": {},
   "outputs": [
    {
     "data": {
      "text/plain": [
       "array([    41,    804, 201534,   1005,     15,   7446,      5,  13767,\n",
       "            0,      0], dtype=int32)"
      ]
     },
     "execution_count": 34,
     "metadata": {},
     "output_type": "execute_result"
    }
   ],
   "source": [
    "firstSentence"
   ]
  },
  {
   "cell_type": "markdown",
   "metadata": {},
   "source": [
    "### creating ids matrix for our imdb review dataset"
   ]
  },
  {
   "cell_type": "code",
   "execution_count": 35,
   "metadata": {},
   "outputs": [],
   "source": [
    "from os import listdir\n",
    "from os.path import isfile, join"
   ]
  },
  {
   "cell_type": "code",
   "execution_count": 36,
   "metadata": {},
   "outputs": [],
   "source": [
    "import os"
   ]
  },
  {
   "cell_type": "code",
   "execution_count": 37,
   "metadata": {},
   "outputs": [
    {
     "name": "stdout",
     "output_type": "stream",
     "text": [
      "Dockerfile     models\t\t  positiveReviews\t  wordsList.npy\r\n",
      "idsMatrix.npy  models.tar.gz\t  Pre-Trained LSTM.ipynb  wordVectors.npy\r\n",
      "Images\t       negativeReviews\t  README.md\r\n",
      "LICENSE        Oriole LSTM.ipynb  training_data.tar.gz\r\n"
     ]
    }
   ],
   "source": [
    "!ls"
   ]
  },
  {
   "cell_type": "code",
   "execution_count": 38,
   "metadata": {},
   "outputs": [],
   "source": [
    "positiveFiles = ['positiveReviews/' + f for f in \n",
    "                 listdir('positiveReviews/') if \n",
    "                 isfile(join('positiveReviews/', f))]"
   ]
  },
  {
   "cell_type": "code",
   "execution_count": 39,
   "metadata": {},
   "outputs": [],
   "source": [
    "negativeFiles = ['negativeReviews/' + f for f in \n",
    "                 listdir('negativeReviews/') if \n",
    "                 isfile(join('negativeReviews/', f))]"
   ]
  },
  {
   "cell_type": "code",
   "execution_count": 40,
   "metadata": {},
   "outputs": [
    {
     "data": {
      "text/plain": [
       "list"
      ]
     },
     "execution_count": 40,
     "metadata": {},
     "output_type": "execute_result"
    }
   ],
   "source": [
    "type(positiveFiles)"
   ]
  },
  {
   "cell_type": "code",
   "execution_count": 41,
   "metadata": {},
   "outputs": [
    {
     "data": {
      "text/plain": [
       "'positiveReviews/9257_7.txt'"
      ]
     },
     "execution_count": 41,
     "metadata": {},
     "output_type": "execute_result"
    }
   ],
   "source": [
    "positiveFiles[0]"
   ]
  },
  {
   "cell_type": "code",
   "execution_count": 42,
   "metadata": {},
   "outputs": [
    {
     "data": {
      "text/plain": [
       "'positiveReviews/4230_10.txt'"
      ]
     },
     "execution_count": 42,
     "metadata": {},
     "output_type": "execute_result"
    }
   ],
   "source": [
    "positiveFiles[10]"
   ]
  },
  {
   "cell_type": "code",
   "execution_count": 43,
   "metadata": {},
   "outputs": [
    {
     "data": {
      "text/plain": [
       "12500"
      ]
     },
     "execution_count": 43,
     "metadata": {},
     "output_type": "execute_result"
    }
   ],
   "source": [
    "len(positiveFiles)"
   ]
  },
  {
   "cell_type": "markdown",
   "metadata": {},
   "source": [
    "#### processing words"
   ]
  },
  {
   "cell_type": "code",
   "execution_count": 44,
   "metadata": {},
   "outputs": [],
   "source": [
    "numWords = []"
   ]
  },
  {
   "cell_type": "code",
   "execution_count": 45,
   "metadata": {},
   "outputs": [
    {
     "name": "stdout",
     "output_type": "stream",
     "text": [
      "Positive files finished\n"
     ]
    }
   ],
   "source": [
    "for pf in positiveFiles:\n",
    "    with open(pf, 'r', encoding='utf-8') as f:\n",
    "        line = f.readline()\n",
    "        counter = len(line.split())\n",
    "        numWords.append(counter)\n",
    "print('Positive files finished')"
   ]
  },
  {
   "cell_type": "code",
   "execution_count": 46,
   "metadata": {},
   "outputs": [
    {
     "data": {
      "text/plain": [
       "[148,\n",
       " 177,\n",
       " 71,\n",
       " 337,\n",
       " 105,\n",
       " 410,\n",
       " 188,\n",
       " 250,\n",
       " 158,\n",
       " 275,\n",
       " 116,\n",
       " 287,\n",
       " 162,\n",
       " 114,\n",
       " 182,\n",
       " 149,\n",
       " 86,\n",
       " 127,\n",
       " 306,\n",
       " 90,\n",
       " 178,\n",
       " 197,\n",
       " 169,\n",
       " 817,\n",
       " 121,\n",
       " 127,\n",
       " 232,\n",
       " 368,\n",
       " 113,\n",
       " 218,\n",
       " 91,\n",
       " 444,\n",
       " 159,\n",
       " 190,\n",
       " 280,\n",
       " 127,\n",
       " 92,\n",
       " 353,\n",
       " 300,\n",
       " 219,\n",
       " 41,\n",
       " 54,\n",
       " 140,\n",
       " 177,\n",
       " 109,\n",
       " 61,\n",
       " 299,\n",
       " 142,\n",
       " 466,\n",
       " 338,\n",
       " 172,\n",
       " 119,\n",
       " 101,\n",
       " 359,\n",
       " 63,\n",
       " 108,\n",
       " 127,\n",
       " 427,\n",
       " 124,\n",
       " 673,\n",
       " 174,\n",
       " 114,\n",
       " 383,\n",
       " 109,\n",
       " 341,\n",
       " 174,\n",
       " 130,\n",
       " 320,\n",
       " 105,\n",
       " 177,\n",
       " 359,\n",
       " 192,\n",
       " 418,\n",
       " 253,\n",
       " 125,\n",
       " 155,\n",
       " 533,\n",
       " 152,\n",
       " 724,\n",
       " 154,\n",
       " 238,\n",
       " 301,\n",
       " 622,\n",
       " 138,\n",
       " 133,\n",
       " 207,\n",
       " 174,\n",
       " 538,\n",
       " 176,\n",
       " 164,\n",
       " 57,\n",
       " 347,\n",
       " 447,\n",
       " 258,\n",
       " 128,\n",
       " 154,\n",
       " 732,\n",
       " 120,\n",
       " 216,\n",
       " 254,\n",
       " 143,\n",
       " 116,\n",
       " 158,\n",
       " 138,\n",
       " 144,\n",
       " 365,\n",
       " 652,\n",
       " 404,\n",
       " 378,\n",
       " 452,\n",
       " 221,\n",
       " 191,\n",
       " 315,\n",
       " 473,\n",
       " 292,\n",
       " 147,\n",
       " 280,\n",
       " 292,\n",
       " 42,\n",
       " 143,\n",
       " 221,\n",
       " 137,\n",
       " 172,\n",
       " 32,\n",
       " 320,\n",
       " 161,\n",
       " 51,\n",
       " 129,\n",
       " 226,\n",
       " 502,\n",
       " 171,\n",
       " 119,\n",
       " 155,\n",
       " 540,\n",
       " 182,\n",
       " 157,\n",
       " 233,\n",
       " 154,\n",
       " 168,\n",
       " 126,\n",
       " 747,\n",
       " 556,\n",
       " 713,\n",
       " 518,\n",
       " 178,\n",
       " 440,\n",
       " 134,\n",
       " 119,\n",
       " 163,\n",
       " 121,\n",
       " 154,\n",
       " 305,\n",
       " 308,\n",
       " 585,\n",
       " 557,\n",
       " 97,\n",
       " 216,\n",
       " 170,\n",
       " 72,\n",
       " 80,\n",
       " 84,\n",
       " 527,\n",
       " 390,\n",
       " 239,\n",
       " 119,\n",
       " 81,\n",
       " 285,\n",
       " 37,\n",
       " 57,\n",
       " 263,\n",
       " 142,\n",
       " 324,\n",
       " 79,\n",
       " 374,\n",
       " 163,\n",
       " 170,\n",
       " 84,\n",
       " 336,\n",
       " 197,\n",
       " 293,\n",
       " 357,\n",
       " 200,\n",
       " 300,\n",
       " 162,\n",
       " 190,\n",
       " 136,\n",
       " 172,\n",
       " 717,\n",
       " 199,\n",
       " 126,\n",
       " 760,\n",
       " 71,\n",
       " 151,\n",
       " 67,\n",
       " 49,\n",
       " 186,\n",
       " 129,\n",
       " 230,\n",
       " 51,\n",
       " 150,\n",
       " 193,\n",
       " 78,\n",
       " 69,\n",
       " 105,\n",
       " 275,\n",
       " 146,\n",
       " 145,\n",
       " 240,\n",
       " 168,\n",
       " 665,\n",
       " 107,\n",
       " 333,\n",
       " 166,\n",
       " 135,\n",
       " 257,\n",
       " 267,\n",
       " 151,\n",
       " 791,\n",
       " 679,\n",
       " 85,\n",
       " 221,\n",
       " 200,\n",
       " 64,\n",
       " 56,\n",
       " 151,\n",
       " 162,\n",
       " 175,\n",
       " 64,\n",
       " 145,\n",
       " 258,\n",
       " 248,\n",
       " 138,\n",
       " 285,\n",
       " 621,\n",
       " 390,\n",
       " 115,\n",
       " 129,\n",
       " 296,\n",
       " 119,\n",
       " 186,\n",
       " 116,\n",
       " 67,\n",
       " 42,\n",
       " 137,\n",
       " 585,\n",
       " 333,\n",
       " 301,\n",
       " 70,\n",
       " 340,\n",
       " 247,\n",
       " 226,\n",
       " 258,\n",
       " 334,\n",
       " 258,\n",
       " 169,\n",
       " 130,\n",
       " 917,\n",
       " 115,\n",
       " 117,\n",
       " 285,\n",
       " 156,\n",
       " 217,\n",
       " 77,\n",
       " 110,\n",
       " 148,\n",
       " 211,\n",
       " 174,\n",
       " 202,\n",
       " 159,\n",
       " 177,\n",
       " 280,\n",
       " 144,\n",
       " 168,\n",
       " 288,\n",
       " 141,\n",
       " 268,\n",
       " 363,\n",
       " 208,\n",
       " 140,\n",
       " 663,\n",
       " 301,\n",
       " 202,\n",
       " 171,\n",
       " 24,\n",
       " 386,\n",
       " 157,\n",
       " 124,\n",
       " 122,\n",
       " 34,\n",
       " 42,\n",
       " 221,\n",
       " 200,\n",
       " 50,\n",
       " 183,\n",
       " 883,\n",
       " 169,\n",
       " 210,\n",
       " 122,\n",
       " 188,\n",
       " 230,\n",
       " 118,\n",
       " 243,\n",
       " 119,\n",
       " 283,\n",
       " 296,\n",
       " 229,\n",
       " 87,\n",
       " 152,\n",
       " 196,\n",
       " 200,\n",
       " 260,\n",
       " 49,\n",
       " 74,\n",
       " 479,\n",
       " 136,\n",
       " 62,\n",
       " 129,\n",
       " 158,\n",
       " 233,\n",
       " 152,\n",
       " 119,\n",
       " 285,\n",
       " 125,\n",
       " 57,\n",
       " 165,\n",
       " 108,\n",
       " 129,\n",
       " 133,\n",
       " 156,\n",
       " 157,\n",
       " 373,\n",
       " 144,\n",
       " 178,\n",
       " 282,\n",
       " 309,\n",
       " 146,\n",
       " 118,\n",
       " 73,\n",
       " 129,\n",
       " 535,\n",
       " 230,\n",
       " 356,\n",
       " 825,\n",
       " 520,\n",
       " 156,\n",
       " 181,\n",
       " 134,\n",
       " 130,\n",
       " 196,\n",
       " 318,\n",
       " 92,\n",
       " 211,\n",
       " 220,\n",
       " 58,\n",
       " 226,\n",
       " 138,\n",
       " 730,\n",
       " 434,\n",
       " 169,\n",
       " 147,\n",
       " 253,\n",
       " 117,\n",
       " 57,\n",
       " 79,\n",
       " 359,\n",
       " 137,\n",
       " 94,\n",
       " 104,\n",
       " 38,\n",
       " 182,\n",
       " 139,\n",
       " 305,\n",
       " 485,\n",
       " 44,\n",
       " 413,\n",
       " 166,\n",
       " 156,\n",
       " 128,\n",
       " 713,\n",
       " 997,\n",
       " 458,\n",
       " 109,\n",
       " 588,\n",
       " 143,\n",
       " 179,\n",
       " 330,\n",
       " 467,\n",
       " 377,\n",
       " 259,\n",
       " 394,\n",
       " 133,\n",
       " 113,\n",
       " 245,\n",
       " 163,\n",
       " 147,\n",
       " 238,\n",
       " 102,\n",
       " 275,\n",
       " 166,\n",
       " 114,\n",
       " 221,\n",
       " 169,\n",
       " 125,\n",
       " 98,\n",
       " 324,\n",
       " 127,\n",
       " 114,\n",
       " 136,\n",
       " 479,\n",
       " 109,\n",
       " 475,\n",
       " 44,\n",
       " 506,\n",
       " 194,\n",
       " 280,\n",
       " 382,\n",
       " 42,\n",
       " 999,\n",
       " 58,\n",
       " 388,\n",
       " 580,\n",
       " 392,\n",
       " 93,\n",
       " 138,\n",
       " 411,\n",
       " 113,\n",
       " 169,\n",
       " 104,\n",
       " 201,\n",
       " 150,\n",
       " 196,\n",
       " 103,\n",
       " 149,\n",
       " 140,\n",
       " 49,\n",
       " 148,\n",
       " 155,\n",
       " 159,\n",
       " 62,\n",
       " 155,\n",
       " 63,\n",
       " 621,\n",
       " 222,\n",
       " 164,\n",
       " 197,\n",
       " 234,\n",
       " 76,\n",
       " 193,\n",
       " 177,\n",
       " 334,\n",
       " 105,\n",
       " 47,\n",
       " 266,\n",
       " 159,\n",
       " 287,\n",
       " 275,\n",
       " 107,\n",
       " 255,\n",
       " 153,\n",
       " 464,\n",
       " 956,\n",
       " 164,\n",
       " 164,\n",
       " 278,\n",
       " 961,\n",
       " 119,\n",
       " 254,\n",
       " 415,\n",
       " 339,\n",
       " 122,\n",
       " 481,\n",
       " 201,\n",
       " 341,\n",
       " 157,\n",
       " 169,\n",
       " 213,\n",
       " 310,\n",
       " 55,\n",
       " 296,\n",
       " 258,\n",
       " 175,\n",
       " 144,\n",
       " 98,\n",
       " 105,\n",
       " 377,\n",
       " 167,\n",
       " 295,\n",
       " 117,\n",
       " 187,\n",
       " 146,\n",
       " 71,\n",
       " 787,\n",
       " 17,\n",
       " 162,\n",
       " 198,\n",
       " 58,\n",
       " 132,\n",
       " 385,\n",
       " 194,\n",
       " 714,\n",
       " 307,\n",
       " 107,\n",
       " 754,\n",
       " 126,\n",
       " 302,\n",
       " 61,\n",
       " 228,\n",
       " 168,\n",
       " 160,\n",
       " 52,\n",
       " 444,\n",
       " 117,\n",
       " 776,\n",
       " 149,\n",
       " 167,\n",
       " 124,\n",
       " 211,\n",
       " 305,\n",
       " 505,\n",
       " 33,\n",
       " 128,\n",
       " 69,\n",
       " 226,\n",
       " 246,\n",
       " 119,\n",
       " 327,\n",
       " 165,\n",
       " 146,\n",
       " 55,\n",
       " 120,\n",
       " 706,\n",
       " 118,\n",
       " 111,\n",
       " 201,\n",
       " 227,\n",
       " 120,\n",
       " 344,\n",
       " 117,\n",
       " 87,\n",
       " 133,\n",
       " 316,\n",
       " 120,\n",
       " 182,\n",
       " 140,\n",
       " 264,\n",
       " 225,\n",
       " 208,\n",
       " 72,\n",
       " 346,\n",
       " 77,\n",
       " 233,\n",
       " 265,\n",
       " 363,\n",
       " 208,\n",
       " 102,\n",
       " 101,\n",
       " 38,\n",
       " 612,\n",
       " 329,\n",
       " 319,\n",
       " 510,\n",
       " 320,\n",
       " 277,\n",
       " 169,\n",
       " 393,\n",
       " 281,\n",
       " 220,\n",
       " 717,\n",
       " 123,\n",
       " 157,\n",
       " 310,\n",
       " 151,\n",
       " 154,\n",
       " 131,\n",
       " 278,\n",
       " 265,\n",
       " 221,\n",
       " 201,\n",
       " 88,\n",
       " 132,\n",
       " 164,\n",
       " 130,\n",
       " 141,\n",
       " 435,\n",
       " 92,\n",
       " 58,\n",
       " 68,\n",
       " 939,\n",
       " 395,\n",
       " 145,\n",
       " 272,\n",
       " 289,\n",
       " 119,\n",
       " 292,\n",
       " 305,\n",
       " 276,\n",
       " 132,\n",
       " 196,\n",
       " 72,\n",
       " 104,\n",
       " 139,\n",
       " 258,\n",
       " 146,\n",
       " 68,\n",
       " 254,\n",
       " 115,\n",
       " 196,\n",
       " 136,\n",
       " 350,\n",
       " 273,\n",
       " 142,\n",
       " 146,\n",
       " 325,\n",
       " 100,\n",
       " 76,\n",
       " 171,\n",
       " 195,\n",
       " 158,\n",
       " 67,\n",
       " 373,\n",
       " 223,\n",
       " 322,\n",
       " 260,\n",
       " 304,\n",
       " 170,\n",
       " 329,\n",
       " 115,\n",
       " 488,\n",
       " 197,\n",
       " 312,\n",
       " 88,\n",
       " 198,\n",
       " 167,\n",
       " 129,\n",
       " 271,\n",
       " 238,\n",
       " 58,\n",
       " 479,\n",
       " 121,\n",
       " 45,\n",
       " 150,\n",
       " 118,\n",
       " 139,\n",
       " 103,\n",
       " 44,\n",
       " 243,\n",
       " 211,\n",
       " 234,\n",
       " 345,\n",
       " 335,\n",
       " 171,\n",
       " 110,\n",
       " 219,\n",
       " 92,\n",
       " 225,\n",
       " 113,\n",
       " 530,\n",
       " 114,\n",
       " 109,\n",
       " 125,\n",
       " 105,\n",
       " 197,\n",
       " 210,\n",
       " 208,\n",
       " 545,\n",
       " 90,\n",
       " 140,\n",
       " 230,\n",
       " 520,\n",
       " 123,\n",
       " 39,\n",
       " 112,\n",
       " 464,\n",
       " 235,\n",
       " 846,\n",
       " 127,\n",
       " 69,\n",
       " 582,\n",
       " 172,\n",
       " 143,\n",
       " 140,\n",
       " 77,\n",
       " 639,\n",
       " 123,\n",
       " 72,\n",
       " 140,\n",
       " 138,\n",
       " 137,\n",
       " 721,\n",
       " 382,\n",
       " 79,\n",
       " 126,\n",
       " 972,\n",
       " 274,\n",
       " 165,\n",
       " 227,\n",
       " 549,\n",
       " 140,\n",
       " 124,\n",
       " 108,\n",
       " 143,\n",
       " 124,\n",
       " 174,\n",
       " 107,\n",
       " 278,\n",
       " 142,\n",
       " 120,\n",
       " 706,\n",
       " 372,\n",
       " 311,\n",
       " 130,\n",
       " 739,\n",
       " 101,\n",
       " 317,\n",
       " 269,\n",
       " 385,\n",
       " 367,\n",
       " 764,\n",
       " 247,\n",
       " 566,\n",
       " 249,\n",
       " 59,\n",
       " 204,\n",
       " 140,\n",
       " 251,\n",
       " 232,\n",
       " 147,\n",
       " 143,\n",
       " 271,\n",
       " 217,\n",
       " 159,\n",
       " 795,\n",
       " 57,\n",
       " 334,\n",
       " 142,\n",
       " 129,\n",
       " 586,\n",
       " 123,\n",
       " 201,\n",
       " 481,\n",
       " 146,\n",
       " 150,\n",
       " 72,\n",
       " 114,\n",
       " 156,\n",
       " 110,\n",
       " 97,\n",
       " 140,\n",
       " 440,\n",
       " 322,\n",
       " 150,\n",
       " 132,\n",
       " 945,\n",
       " 78,\n",
       " 427,\n",
       " 123,\n",
       " 32,\n",
       " 64,\n",
       " 201,\n",
       " 241,\n",
       " 154,\n",
       " 110,\n",
       " 60,\n",
       " 575,\n",
       " 193,\n",
       " 155,\n",
       " 128,\n",
       " 136,\n",
       " 165,\n",
       " 80,\n",
       " 107,\n",
       " 184,\n",
       " 93,\n",
       " 43,\n",
       " 120,\n",
       " 159,\n",
       " 158,\n",
       " 85,\n",
       " 125,\n",
       " 145,\n",
       " 239,\n",
       " 59,\n",
       " 123,\n",
       " 93,\n",
       " 146,\n",
       " 393,\n",
       " 161,\n",
       " 83,\n",
       " 310,\n",
       " 499,\n",
       " 153,\n",
       " 40,\n",
       " 94,\n",
       " 505,\n",
       " 144,\n",
       " 305,\n",
       " 62,\n",
       " 216,\n",
       " 133,\n",
       " 220,\n",
       " 129,\n",
       " 228,\n",
       " 159,\n",
       " 766,\n",
       " 143,\n",
       " 259,\n",
       " 163,\n",
       " 325,\n",
       " 144,\n",
       " 288,\n",
       " 125,\n",
       " 255,\n",
       " 308,\n",
       " 190,\n",
       " 121,\n",
       " 244,\n",
       " 157,\n",
       " 111,\n",
       " 274,\n",
       " 355,\n",
       " 42,\n",
       " 94,\n",
       " 455,\n",
       " 144,\n",
       " 296,\n",
       " 163,\n",
       " 63,\n",
       " 138,\n",
       " 290,\n",
       " 108,\n",
       " 52,\n",
       " 110,\n",
       " 146,\n",
       " 54,\n",
       " 139,\n",
       " 145,\n",
       " 46,\n",
       " 523,\n",
       " 104,\n",
       " 142,\n",
       " 68,\n",
       " 303,\n",
       " 440,\n",
       " 137,\n",
       " 384,\n",
       " 652,\n",
       " 432,\n",
       " 137,\n",
       " 515,\n",
       " 87,\n",
       " 135,\n",
       " 358,\n",
       " 114,\n",
       " 104,\n",
       " 149,\n",
       " 463,\n",
       " 135,\n",
       " 220,\n",
       " 406,\n",
       " 119,\n",
       " 76,\n",
       " 313,\n",
       " 611,\n",
       " 81,\n",
       " 219,\n",
       " 550,\n",
       " 158,\n",
       " 158,\n",
       " 388,\n",
       " 38,\n",
       " 340,\n",
       " 871,\n",
       " 94,\n",
       " 223,\n",
       " 643,\n",
       " 164,\n",
       " 135,\n",
       " 244,\n",
       " 118,\n",
       " 236,\n",
       " 168,\n",
       " 306,\n",
       " 136,\n",
       " 166,\n",
       " 306,\n",
       " 90,\n",
       " 169,\n",
       " 519,\n",
       " 92,\n",
       " 962,\n",
       " 629,\n",
       " 437,\n",
       " 179,\n",
       " 150,\n",
       " 406,\n",
       " 150,\n",
       " 269,\n",
       " 560,\n",
       " 515,\n",
       " 176,\n",
       " 196,\n",
       " 176,\n",
       " 108,\n",
       " 301,\n",
       " 251,\n",
       " 201,\n",
       " 247,\n",
       " 130,\n",
       " 174,\n",
       " 393,\n",
       " 133,\n",
       " 166,\n",
       " 410,\n",
       " 115,\n",
       " 131,\n",
       " 144,\n",
       " 116,\n",
       " 196,\n",
       " 205,\n",
       " 121,\n",
       " 149,\n",
       " 92,\n",
       " 346,\n",
       " 166,\n",
       " 188,\n",
       " 145,\n",
       " 152,\n",
       " 142,\n",
       " 446,\n",
       " 590,\n",
       " 307,\n",
       " 136,\n",
       " 150,\n",
       " 145,\n",
       " 598,\n",
       " 43,\n",
       " 151,\n",
       " 297,\n",
       " 133,\n",
       " 157,\n",
       " 247,\n",
       " 92,\n",
       " 291,\n",
       " 137,\n",
       " 292,\n",
       " 145,\n",
       " 64,\n",
       " 692,\n",
       " 185,\n",
       " 215,\n",
       " 573,\n",
       " 276,\n",
       " 79,\n",
       " 712,\n",
       " 276,\n",
       " 276,\n",
       " 77,\n",
       " 171,\n",
       " 161,\n",
       " 543,\n",
       " 60,\n",
       " 144,\n",
       " 128,\n",
       " 107,\n",
       " 57,\n",
       " 314,\n",
       " 35,\n",
       " 168,\n",
       " 232,\n",
       " 150,\n",
       " 346,\n",
       " 67,\n",
       " 130,\n",
       " 193,\n",
       " 207,\n",
       " 240,\n",
       " 185,\n",
       " 151,\n",
       " 85,\n",
       " 1000,\n",
       " 707,\n",
       " 100,\n",
       " 341,\n",
       " 312,\n",
       " 331,\n",
       " 566,\n",
       " 246,\n",
       " 225,\n",
       " 82,\n",
       " 291,\n",
       " 215,\n",
       " 48,\n",
       " 108,\n",
       " 112,\n",
       " 127,\n",
       " 607,\n",
       " 150,\n",
       " 247,\n",
       " 140,\n",
       " 196,\n",
       " ...]"
      ]
     },
     "execution_count": 46,
     "metadata": {},
     "output_type": "execute_result"
    }
   ],
   "source": [
    "numWords"
   ]
  },
  {
   "cell_type": "code",
   "execution_count": 47,
   "metadata": {},
   "outputs": [
    {
     "data": {
      "text/plain": [
       "12500"
      ]
     },
     "execution_count": 47,
     "metadata": {},
     "output_type": "execute_result"
    }
   ],
   "source": [
    "len(numWords)"
   ]
  },
  {
   "cell_type": "code",
   "execution_count": 48,
   "metadata": {},
   "outputs": [
    {
     "name": "stdout",
     "output_type": "stream",
     "text": [
      "Negative files finished\n"
     ]
    }
   ],
   "source": [
    "for nf in negativeFiles:\n",
    "    with open(nf, 'r', encoding='utf-8') as f:\n",
    "        line = f.readline()\n",
    "        counter = len(line.split())\n",
    "        numWords.append(counter)\n",
    "print('Negative files finished')"
   ]
  },
  {
   "cell_type": "code",
   "execution_count": 49,
   "metadata": {},
   "outputs": [
    {
     "data": {
      "text/plain": [
       "25000"
      ]
     },
     "execution_count": 49,
     "metadata": {},
     "output_type": "execute_result"
    }
   ],
   "source": [
    "len(numWords)"
   ]
  },
  {
   "cell_type": "code",
   "execution_count": 50,
   "metadata": {},
   "outputs": [
    {
     "name": "stdout",
     "output_type": "stream",
     "text": [
      "The total number of files is 25000\n",
      "The total number of words in the files is 5844680\n",
      "The average number of words in the files is 233.7872\n"
     ]
    }
   ],
   "source": [
    "numFiles = len(numWords)\n",
    "print('The total number of files is', numFiles)\n",
    "print('The total number of words in the files is', sum(numWords))\n",
    "print('The average number of words in the files is', sum(numWords)/len(numWords))"
   ]
  },
  {
   "cell_type": "markdown",
   "metadata": {},
   "source": [
    "#### using matplotlib to visualize the data"
   ]
  },
  {
   "cell_type": "code",
   "execution_count": 51,
   "metadata": {},
   "outputs": [],
   "source": [
    "import matplotlib.pyplot as plt\n",
    "%matplotlib inline"
   ]
  },
  {
   "cell_type": "code",
   "execution_count": 52,
   "metadata": {},
   "outputs": [
    {
     "data": {
      "image/png": "[encoded data removed]",
      "text/plain": [
       "<Figure size 432x288 with 1 Axes>"
      ]
     },
     "metadata": {},
     "output_type": "display_data"
    }
   ],
   "source": [
    "plt.hist(numWords, 50)\n",
    "plt.xlabel('Sequence Length')\n",
    "plt.ylabel('Frequency')\n",
    "plt.axis([0, 1200, 0, 8000])\n",
    "plt.show()"
   ]
  },
  {
   "cell_type": "code",
   "execution_count": 53,
   "metadata": {},
   "outputs": [
    {
     "data": {
      "text/plain": [
       "'\\nFrom the histogram as well as the average number of words \\nper file, we can safely say that most reviews will fall \\nunder 250 words, which is the max sequence length value \\nwe will set.\\n'"
      ]
     },
     "execution_count": 53,
     "metadata": {},
     "output_type": "execute_result"
    }
   ],
   "source": [
    "'''\n",
    "From the histogram as well as the average number of words \n",
    "per file, we can safely say that most reviews will fall \n",
    "under 250 words, which is the max sequence length value \n",
    "we will set.\n",
    "'''"
   ]
  },
  {
   "cell_type": "code",
   "execution_count": 54,
   "metadata": {},
   "outputs": [],
   "source": [
    "maxSeqLength = 250"
   ]
  },
  {
   "cell_type": "markdown",
   "metadata": {},
   "source": [
    "### converting to ids matrix only a single file of positiveFiles"
   ]
  },
  {
   "cell_type": "code",
   "execution_count": 55,
   "metadata": {},
   "outputs": [
    {
     "name": "stdout",
     "output_type": "stream",
     "text": [
      "At first glance I expected this film to be crappy because I thought the plot would be so excessively feminist. But I was wrong. As you maybe have read in earlier published comments, I agree in that the feminist part in this film does not bother. I never had the idea that the main character was exaggerating her position as a woman. It's like Guzman is presented as somebody with a spine, this in contrast to her classmates. So I was surprised by the story, in fact, I thought it was quite good, except for the predictable end. Maybe it would've been a better idea to give the plot a radical twist, so that the viewer is somewhat more surprised.<br /><br />In addition, I'd like to say that Rodriguez earned her respect by the way she put away her character. I can't really explain why, but especially in the love scenes she convinced me. It just looked real I think.<br /><br />I gave it a 7 out of 10, merely because of the dull last half hour.\n"
     ]
    }
   ],
   "source": [
    "fname = positiveFiles[1]\n",
    "with open(fname) as f:\n",
    "    for lines in f:\n",
    "        print(lines)\n",
    "        exit"
   ]
  },
  {
   "cell_type": "code",
   "execution_count": 56,
   "metadata": {},
   "outputs": [
    {
     "name": "stdout",
     "output_type": "stream",
     "text": [
      "At first glance I expected this film to be crappy because I thought the plot would be so excessively feminist. But I was wrong. As you maybe have read in earlier published comments, I agree in that the feminist part in this film does not bother. I never had the idea that the main character was exaggerating her position as a woman. It's like Guzman is presented as somebody with a spine, this in contrast to her classmates. So I was surprised by the story, in fact, I thought it was quite good, except for the predictable end. Maybe it would've been a better idea to give the plot a radical twist, so that the viewer is somewhat more surprised.<br /><br />In addition, I'd like to say that Rodriguez earned her respect by the way she put away her character. I can't really explain why, but especially in the love scenes she convinced me. It just looked real I think.<br /><br />I gave it a 7 out of 10, merely because of the dull last half hour.\n",
      "['At', 'first', 'glance', 'I', 'expected', 'this', 'film', 'to', 'be', 'crappy', 'because', 'I', 'thought', 'the', 'plot', 'would', 'be', 'so', 'excessively', 'feminist.', 'But', 'I', 'was', 'wrong.', 'As', 'you', 'maybe', 'have', 'read', 'in', 'earlier', 'published', 'comments,', 'I', 'agree', 'in', 'that', 'the', 'feminist', 'part', 'in', 'this', 'film', 'does', 'not', 'bother.', 'I', 'never', 'had', 'the', 'idea', 'that', 'the', 'main', 'character', 'was', 'exaggerating', 'her', 'position', 'as', 'a', 'woman.', \"It's\", 'like', 'Guzman', 'is', 'presented', 'as', 'somebody', 'with', 'a', 'spine,', 'this', 'in', 'contrast', 'to', 'her', 'classmates.', 'So', 'I', 'was', 'surprised', 'by', 'the', 'story,', 'in', 'fact,', 'I', 'thought', 'it', 'was', 'quite', 'good,', 'except', 'for', 'the', 'predictable', 'end.', 'Maybe', 'it', \"would've\", 'been', 'a', 'better', 'idea', 'to', 'give', 'the', 'plot', 'a', 'radical', 'twist,', 'so', 'that', 'the', 'viewer', 'is', 'somewhat', 'more', 'surprised.<br', '/><br', '/>In', 'addition,', \"I'd\", 'like', 'to', 'say', 'that', 'Rodriguez', 'earned', 'her', 'respect', 'by', 'the', 'way', 'she', 'put', 'away', 'her', 'character.', 'I', \"can't\", 'really', 'explain', 'why,', 'but', 'especially', 'in', 'the', 'love', 'scenes', 'she', 'convinced', 'me.', 'It', 'just', 'looked', 'real', 'I', 'think.<br', '/><br', '/>I', 'gave', 'it', 'a', '7', 'out', 'of', '10,', 'merely', 'because', 'of', 'the', 'dull', 'last', 'half', 'hour.']\n"
     ]
    }
   ],
   "source": [
    "#how operate readline and split\n",
    "with open(fname) as f:\n",
    "    A1 = f.readline()\n",
    "    print(A1)\n",
    "    A2 = A1.split()\n",
    "    print(A2)"
   ]
  },
  {
   "cell_type": "code",
   "execution_count": 57,
   "metadata": {},
   "outputs": [],
   "source": [
    "#processing to leave only characters\n",
    "import re\n",
    "strip_special_chars = re.compile(\"[^A-Za-z0-9 ]+]\")"
   ]
  },
  {
   "cell_type": "code",
   "execution_count": 58,
   "metadata": {},
   "outputs": [],
   "source": [
    "def cleanSentences(string):\n",
    "    string = string.lower().replace(\"<br />\",\" \")\n",
    "    return re.sub(strip_special_chars, \" \", string.lower())"
   ]
  },
  {
   "cell_type": "code",
   "execution_count": 59,
   "metadata": {},
   "outputs": [],
   "source": [
    "firstFile = np.zeros((maxSeqLength), dtype='int32')\n",
    "with open(fname) as f:\n",
    "    indexCounter = 0\n",
    "    line = f.readline()\n",
    "    cleanedLine = cleanSentences(line)\n",
    "    split = cleanedLine.split()\n",
    "    for word in split:\n",
    "        if indexCounter < maxSeqLength:\n",
    "            try:\n",
    "                firstFile[indexCounter] = wordsList.index(word)\n",
    "            except ValueError:\n",
    "                firstFile[indexCounter] = 399999\n",
    "            indexCounter = indexCounter + 1"
   ]
  },
  {
   "cell_type": "code",
   "execution_count": 60,
   "metadata": {},
   "outputs": [
    {
     "data": {
      "text/plain": [
       "array([    22,     58,  10145,     41,    287,     37,    319,      4,\n",
       "           30, 100580,    113,     41,    804, 201534,   2219,     54,\n",
       "           30,    100,  23808, 399999,     34,     41,     15, 399999,\n",
       "           19,     81,   1881,     33,   1465,      6,    350,    735,\n",
       "       399999,     41,   2137,      6,     12, 201534,  11853,    153,\n",
       "            6,     37,    319,    260,     36, 399999,     41,    332,\n",
       "           40, 201534,   1159,     12, 201534,    444,   1395,     15,\n",
       "        30459,     71,    704,     19,      7, 399999, 399999,    117,\n",
       "        17301,     14,   1923,     19,   4377,     17,      7, 399999,\n",
       "           37,      6,   3313,      4,     71, 399999,    100,     41,\n",
       "           15,   3553,     21, 201534, 399999,      6, 399999,     41,\n",
       "          804,     20,     15,   1689, 399999,   2077,     10, 201534,\n",
       "        12670, 399999,   1881,     20, 399999,     51,      7,    439,\n",
       "         1159,      4,    455, 201534,   2219,      7,   3412, 399999,\n",
       "          100,     12, 201534,  12514,     14,   3779,     56, 399999,\n",
       "            6, 399999, 399999,    117,      4,    203,     12,   4461,\n",
       "         1770,     71,   1983,     21, 201534,    179,     67,    339,\n",
       "          420,     71, 399999,     41, 399999,    588,   3392, 399999,\n",
       "           34,    858,      6, 201534,    835,   3468,     67,   3958,\n",
       "       149208,     20,    120,   1803,    567,     41, 399999,     41,\n",
       "          646,     20,      7,    632,     66,      3, 399999,   4544,\n",
       "          113,      3, 201534,  13271,     76,    343, 399999,      0,\n",
       "            0,      0,      0,      0,      0,      0,      0,      0,\n",
       "            0,      0,      0,      0,      0,      0,      0,      0,\n",
       "            0,      0,      0,      0,      0,      0,      0,      0,\n",
       "            0,      0,      0,      0,      0,      0,      0,      0,\n",
       "            0,      0,      0,      0,      0,      0,      0,      0,\n",
       "            0,      0,      0,      0,      0,      0,      0,      0,\n",
       "            0,      0,      0,      0,      0,      0,      0,      0,\n",
       "            0,      0,      0,      0,      0,      0,      0,      0,\n",
       "            0,      0,      0,      0,      0,      0,      0,      0,\n",
       "            0,      0], dtype=int32)"
      ]
     },
     "execution_count": 60,
     "metadata": {},
     "output_type": "execute_result"
    }
   ],
   "source": [
    "firstFile"
   ]
  },
  {
   "cell_type": "code",
   "execution_count": 61,
   "metadata": {},
   "outputs": [
    {
     "data": {
      "text/plain": [
       "250"
      ]
     },
     "execution_count": 61,
     "metadata": {},
     "output_type": "execute_result"
    }
   ],
   "source": [
    "len(firstFile)"
   ]
  },
  {
   "cell_type": "code",
   "execution_count": 62,
   "metadata": {},
   "outputs": [],
   "source": [
    "# because is so expensive compute 250000 reviews to get\n",
    "# a ids matrix\n",
    "# well, we load a pre-computed matrix"
   ]
  },
  {
   "cell_type": "code",
   "execution_count": 63,
   "metadata": {},
   "outputs": [
    {
     "name": "stdout",
     "output_type": "stream",
     "text": [
      "Dockerfile     models\t\t  positiveReviews\t  wordsList.npy\r\n",
      "idsMatrix.npy  models.tar.gz\t  Pre-Trained LSTM.ipynb  wordVectors.npy\r\n",
      "Images\t       negativeReviews\t  README.md\r\n",
      "LICENSE        Oriole LSTM.ipynb  training_data.tar.gz\r\n"
     ]
    }
   ],
   "source": [
    "!ls"
   ]
  },
  {
   "cell_type": "code",
   "execution_count": 64,
   "metadata": {},
   "outputs": [],
   "source": [
    "ids = np.load('idsMatrix.npy')"
   ]
  },
  {
   "cell_type": "code",
   "execution_count": 65,
   "metadata": {},
   "outputs": [
    {
     "data": {
      "text/plain": [
       "(25000, 250)"
      ]
     },
     "execution_count": 65,
     "metadata": {},
     "output_type": "execute_result"
    }
   ],
   "source": [
    "ids.shape"
   ]
  },
  {
   "cell_type": "markdown",
   "metadata": {},
   "source": [
    "### functions that you will find helping when training the network later"
   ]
  },
  {
   "cell_type": "code",
   "execution_count": 66,
   "metadata": {},
   "outputs": [],
   "source": [
    "from random import randint"
   ]
  },
  {
   "cell_type": "code",
   "execution_count": 67,
   "metadata": {},
   "outputs": [],
   "source": [
    "def getTrainBatch():\n",
    "    labels = []\n",
    "    arr = np.zeros([batchSize, maxSeqLength])\n",
    "    for i in range(batchSize):\n",
    "        if (i % 2 == 0):\n",
    "            num = randint(1, 11499)\n",
    "            labels.append([1,0])\n",
    "        else:\n",
    "            num = randint(13499, 24999)\n",
    "            labels.append([0,1])\n",
    "        arr[i] = ids[num-1:num]\n",
    "    return arr, labels"
   ]
  },
  {
   "cell_type": "code",
   "execution_count": 68,
   "metadata": {},
   "outputs": [],
   "source": [
    "def getTestBatch():\n",
    "    labels = []\n",
    "    arr = np.zeros([batchSize, maxSeqLength])\n",
    "    for i in range(batchSize):\n",
    "        num = randint(11499,13499)\n",
    "        if (num <= 12999):\n",
    "            labels.append([1,0])\n",
    "        else:\n",
    "            labels.append([0,1])\n",
    "        arr[i] = ids[num-1:num]\n",
    "    return arr, labels            "
   ]
  },
  {
   "cell_type": "markdown",
   "metadata": {},
   "source": [
    "### RNN Model"
   ]
  },
  {
   "cell_type": "code",
   "execution_count": 69,
   "metadata": {},
   "outputs": [],
   "source": [
    "# tf.placeholder is used to feed actual training examples\n",
    "\n",
    "# tf.Variable for is used for trainable variables \n",
    "# such as weights (W) and biases (B) for your model.\n",
    "\n",
    "# CONCLUSION: \n",
    "# Variables are trained over time, \n",
    "# Placeholders are input data that doesn't change \n",
    "# as your model trains"
   ]
  },
  {
   "cell_type": "code",
   "execution_count": 70,
   "metadata": {},
   "outputs": [],
   "source": [
    "# defining some parameter \n",
    "batchSize = 24\n",
    "lstmUnits = 64\n",
    "numClasses = 2\n",
    "iterations = 100000"
   ]
  },
  {
   "cell_type": "code",
   "execution_count": 71,
   "metadata": {},
   "outputs": [],
   "source": [
    "import tensorflow as tf\n",
    "tf.reset_default_graph()"
   ]
  },
  {
   "cell_type": "code",
   "execution_count": 72,
   "metadata": {},
   "outputs": [],
   "source": [
    "labels = tf.placeholder(tf.float32, [batchSize, numClasses])\n",
    "input_data = tf.placeholder(tf.int32, [batchSize, maxSeqLength])"
   ]
  },
  {
   "cell_type": "code",
   "execution_count": 73,
   "metadata": {
    "scrolled": true
   },
   "outputs": [],
   "source": [
    "# getting our word vector\n",
    "data = tf.Variable(tf.zeros([batchSize, maxSeqLength, numDimensions]), dtype=tf.float32)\n",
    "data = tf.nn.embedding_lookup(wordVectors, input_data)"
   ]
  },
  {
   "cell_type": "code",
   "execution_count": 74,
   "metadata": {},
   "outputs": [],
   "source": [
    "# using LSTM cell\n",
    "lstmCell = tf.contrib.rnn.BasicLSTMCell(lstmUnits)\n",
    "lstmCell = tf.contrib.rnn.DropoutWrapper(cell=lstmCell, output_keep_prob=0.75)\n",
    "value, _ = tf.nn.dynamic_rnn(lstmCell, data, dtype=tf.float32)"
   ]
  },
  {
   "cell_type": "code",
   "execution_count": 75,
   "metadata": {},
   "outputs": [],
   "source": [
    "# getting first output of a rnn\n",
    "weight = tf.Variable(tf.truncated_normal([lstmUnits, numClasses]))\n",
    "bias = tf.Variable(tf.constant(0.1, shape=[numClasses]))"
   ]
  },
  {
   "cell_type": "code",
   "execution_count": 76,
   "metadata": {},
   "outputs": [],
   "source": [
    "value = tf.transpose(value, [1, 0, 2])\n",
    "last = tf.gather(value, int(value.get_shape()[0]) - 1)\n",
    "prediction = (tf.matmul(last, weight) + bias)"
   ]
  },
  {
   "cell_type": "code",
   "execution_count": 77,
   "metadata": {},
   "outputs": [],
   "source": [
    "# correct prediction and accuracy metrics \n",
    "# to track how the network is doing\n",
    "correctPred = tf.equal(tf.argmax(prediction,1), tf.argmax(labels,1))\n",
    "accuracy = tf.reduce_mean(tf.cast(correctPred, tf.float32))"
   ]
  },
  {
   "cell_type": "code",
   "execution_count": 78,
   "metadata": {},
   "outputs": [
    {
     "name": "stdout",
     "output_type": "stream",
     "text": [
      "WARNING:tensorflow:From <ipython-input-78-731620551d72>:5: softmax_cross_entropy_with_logits (from tensorflow.python.ops.nn_ops) is deprecated and will be removed in a future version.\n",
      "Instructions for updating:\n",
      "\n",
      "Future major versions of TensorFlow will allow gradients to flow\n",
      "into the labels input on backprop by default.\n",
      "\n",
      "See @{tf.nn.softmax_cross_entropy_with_logits_v2}.\n",
      "\n"
     ]
    }
   ],
   "source": [
    "# defining a standard cross entropy loss with a softmax layer\n",
    "# For the optimizer, we’ll use Adam \n",
    "# default learning rate of .001\n",
    "loss = tf.reduce_mean(tf.nn.softmax_cross_entropy_with_logits\n",
    "                     (logits=prediction, labels=labels))\n",
    "optimizer = tf.train.AdamOptimizer().minimize(loss)"
   ]
  },
  {
   "cell_type": "code",
   "execution_count": 79,
   "metadata": {},
   "outputs": [
    {
     "name": "stdout",
     "output_type": "stream",
     "text": [
      "WARNING:tensorflow:From <ipython-input-79-c607849da4b6>:1: all_variables (from tensorflow.python.ops.variables) is deprecated and will be removed after 2017-03-02.\n",
      "Instructions for updating:\n",
      "Please use tf.global_variables instead.\n"
     ]
    },
    {
     "data": {
      "text/plain": [
       "[<tf.Variable 'Variable:0' shape=(24, 250, 300) dtype=float32_ref>,\n",
       " <tf.Variable 'rnn/basic_lstm_cell/kernel:0' shape=(114, 256) dtype=float32_ref>,\n",
       " <tf.Variable 'rnn/basic_lstm_cell/bias:0' shape=(256,) dtype=float32_ref>,\n",
       " <tf.Variable 'Variable_1:0' shape=(64, 2) dtype=float32_ref>,\n",
       " <tf.Variable 'Variable_2:0' shape=(2,) dtype=float32_ref>,\n",
       " <tf.Variable 'beta1_power:0' shape=() dtype=float32_ref>,\n",
       " <tf.Variable 'beta2_power:0' shape=() dtype=float32_ref>,\n",
       " <tf.Variable 'rnn/basic_lstm_cell/kernel/Adam:0' shape=(114, 256) dtype=float32_ref>,\n",
       " <tf.Variable 'rnn/basic_lstm_cell/kernel/Adam_1:0' shape=(114, 256) dtype=float32_ref>,\n",
       " <tf.Variable 'rnn/basic_lstm_cell/bias/Adam:0' shape=(256,) dtype=float32_ref>,\n",
       " <tf.Variable 'rnn/basic_lstm_cell/bias/Adam_1:0' shape=(256,) dtype=float32_ref>,\n",
       " <tf.Variable 'Variable_1/Adam:0' shape=(64, 2) dtype=float32_ref>,\n",
       " <tf.Variable 'Variable_1/Adam_1:0' shape=(64, 2) dtype=float32_ref>,\n",
       " <tf.Variable 'Variable_2/Adam:0' shape=(2,) dtype=float32_ref>,\n",
       " <tf.Variable 'Variable_2/Adam_1:0' shape=(2,) dtype=float32_ref>]"
      ]
     },
     "execution_count": 79,
     "metadata": {},
     "output_type": "execute_result"
    }
   ],
   "source": [
    "tf.all_variables()"
   ]
  },
  {
   "cell_type": "code",
   "execution_count": 80,
   "metadata": {},
   "outputs": [],
   "source": [
    "# using a pretrained model"
   ]
  },
  {
   "cell_type": "code",
   "execution_count": 81,
   "metadata": {},
   "outputs": [
    {
     "data": {
      "text/plain": [
       "'1.8.0'"
      ]
     },
     "execution_count": 81,
     "metadata": {},
     "output_type": "execute_result"
    }
   ],
   "source": [
    "tf.__version__"
   ]
  },
  {
   "cell_type": "code",
   "execution_count": 82,
   "metadata": {},
   "outputs": [
    {
     "name": "stdout",
     "output_type": "stream",
     "text": [
      "--2018-06-22 15:53:19--  https://raw.githubusercontent.com/tensorflow/tensorflow/master/tensorflow/contrib/rnn/python/tools/checkpoint_convert.py\n",
      "Resolving raw.githubusercontent.com (raw.githubusercontent.com)... 151.101.4.133\n",
      "Connecting to raw.githubusercontent.com (raw.githubusercontent.com)|151.101.4.133|:443... connected.\n",
      "HTTP request sent, awaiting response... 200 OK\n",
      "Length: 11728 (11K) [text/plain]\n",
      "Saving to: ‘checkpoint_convert.py’\n",
      "\n",
      "checkpoint_convert. 100%[===================>]  11,45K  --.-KB/s    in 0s      \n",
      "\n",
      "2018-06-22 15:53:20 (141 MB/s) - ‘checkpoint_convert.py’ saved [11728/11728]\n",
      "\n"
     ]
    }
   ],
   "source": [
    "!wget https://raw.githubusercontent.com/tensorflow/tensorflow/master/tensorflow/contrib/rnn/python/tools/checkpoint_convert.py"
   ]
  },
  {
   "cell_type": "code",
   "execution_count": 83,
   "metadata": {},
   "outputs": [
    {
     "name": "stdout",
     "output_type": "stream",
     "text": [
      "checkpoint_convert.py  models\t\t  Pre-Trained LSTM.ipynb\r\n",
      "Dockerfile\t       models.tar.gz\t  README.md\r\n",
      "idsMatrix.npy\t       negativeReviews\t  training_data.tar.gz\r\n",
      "Images\t\t       Oriole LSTM.ipynb  wordsList.npy\r\n",
      "LICENSE\t\t       positiveReviews\t  wordVectors.npy\r\n"
     ]
    }
   ],
   "source": [
    "!ls"
   ]
  },
  {
   "cell_type": "code",
   "execution_count": 84,
   "metadata": {},
   "outputs": [
    {
     "name": "stdout",
     "output_type": "stream",
     "text": [
      "2018-06-22 15:53:22.074086: I tensorflow/core/platform/cpu_feature_guard.cc:140] Your CPU supports instructions that this TensorFlow binary was not compiled to use: AVX2\r\n"
     ]
    }
   ],
   "source": [
    "!python checkpoint_convert.py models/pretrained_lstm.ckpt-90000 converted-checkpoints/pretrained_lstm-90000.ckpt"
   ]
  },
  {
   "cell_type": "code",
   "execution_count": 85,
   "metadata": {},
   "outputs": [
    {
     "name": "stdout",
     "output_type": "stream",
     "text": [
      "total 297580\r\n",
      "drwxrwxr-x 8 ivan ivan     4096 jun 22 15:53 .\r\n",
      "drwxrwxr-x 9 ivan ivan     4096 jun 22 15:52 ..\r\n",
      "-rw-rw-r-- 1 ivan ivan    11728 jun 22 15:53 checkpoint_convert.py\r\n",
      "drwxr-xr-x 2 ivan ivan     4096 jun 22 15:53 converted-checkpoints\r\n",
      "-rw-rw-r-- 1 ivan ivan      378 jun 21 15:34 Dockerfile\r\n",
      "drwxrwxr-x 8 ivan ivan     4096 jun 21 15:34 .git\r\n",
      "-rw-rw-r-- 1 ivan ivan       10 jun 21 15:34 .gitignore\r\n",
      "-rw-r--r-- 1 ivan ivan 25000080 mar 13  2017 idsMatrix.npy\r\n",
      "drwxrwxr-x 2 ivan ivan     4096 jun 21 15:34 Images\r\n",
      "-rw-rw-r-- 1 ivan ivan     1071 jun 21 15:34 LICENSE\r\n",
      "drwxrwxr-x 2 ivan ivan     4096 mar 27  2017 models\r\n",
      "-rw-rw-r-- 1 ivan ivan 73618696 jun 21 15:34 models.tar.gz\r\n",
      "drwxr-xr-x 2 ivan ivan   344064 awr 12  2011 negativeReviews\r\n",
      "-rw-rw-r-- 1 ivan ivan    44643 jun 21 15:34 Oriole LSTM.ipynb\r\n",
      "drwxr-xr-x 2 ivan ivan   348160 awr 12  2011 positiveReviews\r\n",
      "-rw-rw-r-- 1 ivan ivan     6976 jun 21 15:34 Pre-Trained LSTM.ipynb\r\n",
      "-rw-rw-r-- 1 ivan ivan     4242 jun 21 15:34 README.md\r\n",
      "-rw-rw-r-- 1 ivan ivan 98090940 jun 21 15:34 training_data.tar.gz\r\n",
      "-rw-r--r-- 1 ivan ivan 27200080 mar 13  2017 wordsList.npy\r\n",
      "-rw-r--r-- 1 ivan ivan 80000080 mar 23  2017 wordVectors.npy\r\n"
     ]
    }
   ],
   "source": [
    "!ls -all"
   ]
  },
  {
   "cell_type": "code",
   "execution_count": 86,
   "metadata": {},
   "outputs": [],
   "source": [
    "!rm -rf models"
   ]
  },
  {
   "cell_type": "code",
   "execution_count": 87,
   "metadata": {},
   "outputs": [],
   "source": [
    "!mv converted-checkpoints models"
   ]
  },
  {
   "cell_type": "code",
   "execution_count": 88,
   "metadata": {},
   "outputs": [
    {
     "name": "stdout",
     "output_type": "stream",
     "text": [
      "total 297576\r\n",
      "drwxrwxr-x 7 ivan ivan     4096 jun 22 15:53 .\r\n",
      "drwxrwxr-x 9 ivan ivan     4096 jun 22 15:52 ..\r\n",
      "-rw-rw-r-- 1 ivan ivan    11728 jun 22 15:53 checkpoint_convert.py\r\n",
      "-rw-rw-r-- 1 ivan ivan      378 jun 21 15:34 Dockerfile\r\n",
      "drwxrwxr-x 8 ivan ivan     4096 jun 21 15:34 .git\r\n",
      "-rw-rw-r-- 1 ivan ivan       10 jun 21 15:34 .gitignore\r\n",
      "-rw-r--r-- 1 ivan ivan 25000080 mar 13  2017 idsMatrix.npy\r\n",
      "drwxrwxr-x 2 ivan ivan     4096 jun 21 15:34 Images\r\n",
      "-rw-rw-r-- 1 ivan ivan     1071 jun 21 15:34 LICENSE\r\n",
      "drwxr-xr-x 2 ivan ivan     4096 jun 22 15:53 models\r\n",
      "-rw-rw-r-- 1 ivan ivan 73618696 jun 21 15:34 models.tar.gz\r\n",
      "drwxr-xr-x 2 ivan ivan   344064 awr 12  2011 negativeReviews\r\n",
      "-rw-rw-r-- 1 ivan ivan    44643 jun 21 15:34 Oriole LSTM.ipynb\r\n",
      "drwxr-xr-x 2 ivan ivan   348160 awr 12  2011 positiveReviews\r\n",
      "-rw-rw-r-- 1 ivan ivan     6976 jun 21 15:34 Pre-Trained LSTM.ipynb\r\n",
      "-rw-rw-r-- 1 ivan ivan     4242 jun 21 15:34 README.md\r\n",
      "-rw-rw-r-- 1 ivan ivan 98090940 jun 21 15:34 training_data.tar.gz\r\n",
      "-rw-r--r-- 1 ivan ivan 27200080 mar 13  2017 wordsList.npy\r\n",
      "-rw-r--r-- 1 ivan ivan 80000080 mar 23  2017 wordVectors.npy\r\n"
     ]
    }
   ],
   "source": [
    "!ls -all"
   ]
  },
  {
   "cell_type": "code",
   "execution_count": 89,
   "metadata": {},
   "outputs": [
    {
     "name": "stdout",
     "output_type": "stream",
     "text": [
      "INFO:tensorflow:Restoring parameters from models/pretrained_lstm-90000.ckpt\n"
     ]
    }
   ],
   "source": [
    "sess = tf.InteractiveSession()\n",
    "saver = tf.train.Saver()\n",
    "saver.restore(sess, tf.train.latest_checkpoint('models'))"
   ]
  },
  {
   "cell_type": "code",
   "execution_count": 90,
   "metadata": {},
   "outputs": [
    {
     "name": "stdout",
     "output_type": "stream",
     "text": [
      "Accuracy for this batch: 50.0\n",
      "Accuracy for this batch: 58.33333134651184\n",
      "Accuracy for this batch: 62.5\n",
      "Accuracy for this batch: 62.5\n",
      "Accuracy for this batch: 70.83333134651184\n",
      "Accuracy for this batch: 54.16666865348816\n",
      "Accuracy for this batch: 70.83333134651184\n",
      "Accuracy for this batch: 70.83333134651184\n",
      "Accuracy for this batch: 66.66666865348816\n",
      "Accuracy for this batch: 79.16666865348816\n"
     ]
    }
   ],
   "source": [
    "iterations = 10\n",
    "for i in range(iterations):\n",
    "    nextBatch, nextBatchLabels = getTestBatch();\n",
    "    print(\"Accuracy for this batch:\", (sess.run(accuracy, {input_data: nextBatch, labels: nextBatchLabels})) * 100)"
   ]
  },
  {
   "cell_type": "code",
   "execution_count": 91,
   "metadata": {},
   "outputs": [
    {
     "name": "stdout",
     "output_type": "stream",
     "text": [
      "checkpoint\r\n",
      "pretrained_lstm-90000.ckpt.data-00000-of-00001\r\n",
      "pretrained_lstm-90000.ckpt.index\r\n",
      "pretrained_lstm-90000.ckpt.meta\r\n"
     ]
    }
   ],
   "source": [
    "!ls models/"
   ]
  },
  {
   "cell_type": "code",
   "execution_count": null,
   "metadata": {},
   "outputs": [],
   "source": []
  }
 ],
 "metadata": {
  "kernelspec": {
   "display_name": "Python 3",
   "language": "python",
   "name": "python3"
  },
  "language_info": {
   "codemirror_mode": {
    "name": "ipython",
    "version": 3
   },
   "file_extension": ".py",
   "mimetype": "text/x-python",
   "name": "python",
   "nbconvert_exporter": "python",
   "pygments_lexer": "ipython3",
   "version": "3.5.2"
  }
 },
 "nbformat": 4,
 "nbformat_minor": 2
}
